{
 "cells": [
  {
   "cell_type": "code",
   "execution_count": null,
   "metadata": {},
   "outputs": [],
   "source": [
    "%matplotlib inline\n",
    "import re\n",
    "import pandas as pd\n",
    "import matplotlib.pyplot as plt\n",
    "from textblob import TextBlob\n"
   ]
  },
  {
   "cell_type": "markdown",
   "metadata": {},
   "source": [
    "Input format for raw data should be tab-separated file with at least 2 columns\n",
    "- Timestamp (header == 'SubmissionDate')\n",
    "- Email thread text (header == Emails)\n"
   ]
  },
  {
   "cell_type": "code",
   "execution_count": null,
   "metadata": {},
   "outputs": [],
   "source": [
    "df=pd.read_table(\"./raw_data_tfidf.txt\")\n",
    "df.SubmissionDate = pd.to_datetime(df.SubmissionDate)\n",
    "df.index = df.SubmissionDate\n",
    "\n",
    "total_cts_per_mth = pd.DataFrame()\n",
    "total_cts_per_mth['mth_counts'] = df.Emails.resample('M').count()\n",
    "total_cts_per_mth.plot();"
   ]
  },
  {
   "cell_type": "code",
   "execution_count": null,
   "metadata": {},
   "outputs": [],
   "source": [
    "keywords = {\n",
    "        'dusa':'training', \n",
    "        'utrain' : 'training',\n",
    "        'ldrd':'ldrd', \n",
    "        'ouo':'cui',\n",
    "        'cui':'cui',\n",
    "        'dc':'dc', \n",
    "        'author':'author', \n",
    "        'coffee':'negctrl', \n",
    "        'please':'polite',\n",
    "        'thank':'polite',\n",
    "        'thanks':'polite',\n",
    "}\n",
    "cat = {\n",
    "    'cost code':'ldrd',     \n",
    "}\n",
    "ldrd_cc_pattern = 'X(W|X)([A-Z0-9]{2})'\n",
    "ldrd_cc = re.compile(ldrd_cc_pattern)\n",
    "\n",
    "## textblob -- sentiment, keyword and ngrams\n",
    "def textblob_run(df):\n",
    "    email_threads = TextBlob(df['Emails'])\n",
    "    count = {\n",
    "        'negctrl':0,\n",
    "        'polite':0,\n",
    "        'ldrd':0, \n",
    "        'training':0, \n",
    "        'cui':0,\n",
    "        'author':0,\n",
    "        'dc':0\n",
    "    }\n",
    "    kw = []\n",
    "    pos = []\n",
    "    neg = []\n",
    "    # keywords\n",
    "    for word in set(email_threads.words):\n",
    "        wl = word.lower()\n",
    "        if wl in keywords:\n",
    "            count[keywords[wl]] = count[keywords[wl]] + 1\n",
    "            if keywords[wl] == 'negctrl':\n",
    "                neg.append(wl)\n",
    "            else:\n",
    "                kw.append(wl)\n",
    "        elif word.startswith('LA-CP-'):\n",
    "            count['cui'] = count['cui'] + 1\n",
    "        elif ldrd_cc.search(word):\n",
    "            count['ldrd'] = count['ldrd'] + 1\n",
    "    \n",
    "    # ngrams\n",
    "    for bigrams in email_threads.ngrams(n=2):\n",
    "        bg = \" \".join(bigrams)\n",
    "        if bg in cat:\n",
    "            if cat[bg] in count:\n",
    "                count[cat[bg]] = count[cat[bg]] + 1\n",
    "        if bg[0].lower() == 'by':\n",
    "            nn = TextBlob(bg[1])\n",
    "            if nn.tags[0][1] == 'CD':\n",
    "                count['urgent'] = count['urgent'] + 1\n",
    "   \n",
    "    kw_found = \", \".join(kw)\n",
    "    kw_neg = \", \".join(neg)\n",
    "            \n",
    "    # return\n",
    "    df['target_kw'] = kw_found\n",
    "    df['negctrl_kw'] = kw_neg\n",
    "    df['negctrl_ct'] = True if count['negctrl'] > 0 else False\n",
    "    df['polite_ct'] = True if count['polite'] > 0 else False\n",
    "    df['training_counts'] = True if count['training'] > 0 else False\n",
    "    df['ldrd_counts'] = True if count['ldrd'] > 0 else False\n",
    "    df['author_counts'] = True if count['author'] > 0 else False\n",
    "    df['cui_counts'] = True if count['cui'] > 0 else False\n",
    "    df['dc_counts'] = True if count['dc'] > 0 else False\n",
    "    return(df)\n",
    "\n"
   ]
  },
  {
   "cell_type": "code",
   "execution_count": null,
   "metadata": {},
   "outputs": [],
   "source": [
    "df = df.apply(textblob_run, axis=1)\n",
    "#df.to_csv('./raw_data_nlp.txt', sep=\"\\t\")"
   ]
  },
  {
   "cell_type": "code",
   "execution_count": null,
   "metadata": {},
   "outputs": [],
   "source": [
    "df = df.applymap(lambda x: 1 if x == True else x)\n",
    "df = df.applymap(lambda x: 0 if x == False else x)\n",
    "df.head()"
   ]
  },
  {
   "cell_type": "code",
   "execution_count": null,
   "metadata": {},
   "outputs": [],
   "source": [
    "col_to_resample_ct = ['negctrl_ct', 'polite_ct', 'training_counts', 'ldrd_counts', 'author_counts',\n",
    "                      'cui_counts', 'dc_counts']\n",
    "\n",
    "## file containing thg number of records per day\n",
    "## tab separated, with <recordID><status record><timestamp>\n",
    "recordsfile = \"recID-status-ts.txt\"\n",
    "recdf = pd.read_table(recordsfile)\n",
    "recdf.datetm = pd.to_datetime(recdf.datetm)\n",
    "recdf.index = recdf.datetm\n",
    "\n",
    "## crete matrix of data per month\n",
    "cts_per_mth = pd.DataFrame()\n",
    "for cols in col_to_resample_ct:\n",
    "    cts_per_mth[cols] = df[cols].resample('M').sum()\n",
    "    \n",
    "cts_per_mth['all_emails'] = df.RequestID.resample('M').count()\n",
    "cts_per_mth['rassti_rec'] = recdf.status.resample('M').count()\n",
    "\n",
    "#cts_per_mth.to_csv(\"./counts_per_month.txt\", sep=\"\\t\")\n",
    "cts_per_mth.head()"
   ]
  }
 ],
 "metadata": {
  "kernelspec": {
   "display_name": "Python 3",
   "language": "python",
   "name": "python3"
  },
  "language_info": {
   "codemirror_mode": {
    "name": "ipython",
    "version": 3
   },
   "file_extension": ".py",
   "mimetype": "text/x-python",
   "name": "python",
   "nbconvert_exporter": "python",
   "pygments_lexer": "ipython3",
   "version": "3.6.5"
  }
 },
 "nbformat": 4,
 "nbformat_minor": 2
}
